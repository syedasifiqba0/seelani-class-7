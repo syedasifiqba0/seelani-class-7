{
 "cells": [
  {
   "cell_type": "code",
   "execution_count": 6,
   "id": "85009260",
   "metadata": {},
   "outputs": [
    {
     "name": "stdout",
     "output_type": "stream",
     "text": [
      "1 2 3 \n",
      "4 5 6 \n",
      "7 8 9 \n"
     ]
    }
   ],
   "source": [
    "\n",
    "    \n",
    "    \n",
    "for row in range(len(data)):\n",
    "    for col in range(len(data[row])):\n",
    "        print(data[row][col], end=\" \")\n",
    "    print()"
   ]
  },
  {
   "cell_type": "markdown",
   "id": "15cfef51",
   "metadata": {},
   "source": [
    "# LIST COMPREHENSIVE"
   ]
  },
  {
   "cell_type": "code",
   "execution_count": 8,
   "id": "10e5ed34",
   "metadata": {},
   "outputs": [
    {
     "name": "stdout",
     "output_type": "stream",
     "text": [
      "1 2 3 \n",
      "4 5 6 \n",
      "7 8 9 \n"
     ]
    }
   ],
   "source": [
    "data = [[1,2,3],\n",
    "       [4,5,6],\n",
    "       [7,8,9]]\n",
    "for row in data:\n",
    "    for col in row:\n",
    "        print(col,end = \" \")\n",
    "    print()\n",
    "        "
   ]
  },
  {
   "cell_type": "markdown",
   "id": "2e1d5000",
   "metadata": {},
   "source": [
    "# TUPLE"
   ]
  },
  {
   "cell_type": "markdown",
   "id": "bcb1d9d4",
   "metadata": {},
   "source": [
    "tuple is represented as round braket"
   ]
  },
  {
   "cell_type": "code",
   "execution_count": 12,
   "id": "d1e3f8ae",
   "metadata": {},
   "outputs": [
    {
     "name": "stdout",
     "output_type": "stream",
     "text": [
      "<class 'tuple'>\n",
      "('a', 'b', 'c', 1, 2, 3, 4)\n"
     ]
    }
   ],
   "source": [
    "data = 'a','b','c',1,2,3,4\n",
    "print(type(data))\n",
    "print(data)"
   ]
  },
  {
   "cell_type": "code",
   "execution_count": 14,
   "id": "4ee8c0ff",
   "metadata": {},
   "outputs": [
    {
     "name": "stdout",
     "output_type": "stream",
     "text": [
      "<class 'tuple'>\n",
      "('a', 'b', 'c', 1, 2, 3, 4)\n"
     ]
    }
   ],
   "source": [
    "data = 'a','b','c',1,2,3,4\n",
    "print(type(data))\n",
    "print(data)"
   ]
  },
  {
   "cell_type": "code",
   "execution_count": 18,
   "id": "04f3767d",
   "metadata": {},
   "outputs": [
    {
     "name": "stdout",
     "output_type": "stream",
     "text": [
      "<class 'tuple'>\n",
      "('a', 'b', 'c')\n"
     ]
    }
   ],
   "source": [
    "data = 'a','b','c',1,2,3,4\n",
    "print(type(data))\n",
    "print(data[0:3])"
   ]
  },
  {
   "cell_type": "code",
   "execution_count": 17,
   "id": "0f1afee9",
   "metadata": {},
   "outputs": [
    {
     "data": {
      "text/plain": [
       "('a', 'b', 'c')"
      ]
     },
     "execution_count": 17,
     "metadata": {},
     "output_type": "execute_result"
    }
   ],
   "source": [
    "data[0:3]"
   ]
  },
  {
   "cell_type": "code",
   "execution_count": 30,
   "id": "44e66712",
   "metadata": {},
   "outputs": [
    {
     "data": {
      "text/plain": [
       "()"
      ]
     },
     "execution_count": 30,
     "metadata": {},
     "output_type": "execute_result"
    }
   ],
   "source": [
    "data[6:5]"
   ]
  },
  {
   "cell_type": "code",
   "execution_count": 31,
   "id": "53abc7ea",
   "metadata": {},
   "outputs": [
    {
     "data": {
      "text/plain": [
       "('a', 3)"
      ]
     },
     "execution_count": 31,
     "metadata": {},
     "output_type": "execute_result"
    }
   ],
   "source": [
    "data[:6:5]"
   ]
  },
  {
   "cell_type": "markdown",
   "id": "f67a590f",
   "metadata": {},
   "source": [
    "# joint two tupple"
   ]
  },
  {
   "cell_type": "code",
   "execution_count": 23,
   "id": "2151d570",
   "metadata": {},
   "outputs": [
    {
     "data": {
      "text/plain": [
       "(1, 2, 3, 4, 5, 6, 6, 7, 8)"
      ]
     },
     "execution_count": 23,
     "metadata": {},
     "output_type": "execute_result"
    }
   ],
   "source": [
    "(1,2,3)+(4,5,6)+(6,7,8)"
   ]
  },
  {
   "cell_type": "code",
   "execution_count": 29,
   "id": "6becc767",
   "metadata": {},
   "outputs": [
    {
     "data": {
      "text/plain": [
       "(1, 2, 3, 2, 3, 4)"
      ]
     },
     "execution_count": 29,
     "metadata": {},
     "output_type": "execute_result"
    }
   ],
   "source": [
    "(1,2,3)+(2,3,4)"
   ]
  },
  {
   "cell_type": "markdown",
   "id": "73f112cb",
   "metadata": {},
   "source": [
    "# Dictionary\n",
    "\n",
    "    * Start '{' end '}'"
   ]
  },
  {
   "cell_type": "code",
   "execution_count": null,
   "id": "2cb81216",
   "metadata": {},
   "outputs": [],
   "source": [
    "['Mhammad Kawish','Ashraf','42401-1233445-4','11','abc']\n",
    "['Mhammad Kawish','Ashraf','42401-1233445-4','11','abc']\n",
    "['asif','merajuddin','42401-7603961-5',1111,'sfghfds']"
   ]
  },
  {
   "cell_type": "code",
   "execution_count": 44,
   "id": "a9b7086b",
   "metadata": {},
   "outputs": [
    {
     "data": {
      "text/plain": [
       "'123444543443454'"
      ]
     },
     "execution_count": 44,
     "metadata": {},
     "output_type": "execute_result"
    }
   ],
   "source": [
    "data={\n",
    "    \"Name\": \"Asif\",\n",
    "    \"F_Name\": \"Merajuddin\",\n",
    "    \"Cnic\": \"123444543443454\",\n",
    "    \"roll_no\":212,\n",
    "    \"Signature\":'abc'\n",
    "    \n",
    "}\n",
    "data[\"Name\"]\n",
    "data[\"F_Name\"]\n",
    "data[\"Cnic\"]"
   ]
  },
  {
   "cell_type": "code",
   "execution_count": 48,
   "id": "75ab3770",
   "metadata": {},
   "outputs": [
    {
     "name": "stdout",
     "output_type": "stream",
     "text": [
      "Asif\n",
      "Merajuddin\n",
      "123444543443454\n",
      "212\n"
     ]
    }
   ],
   "source": [
    "data={\n",
    "    \"Name\": \"Asif\",\n",
    "    \"F_Name\": \"Merajuddin\",\n",
    "    \"Cnic\": \"123444543443454\",\n",
    "    \"roll_no\":212,\n",
    "    \"Signature\":'abc'\n",
    "    \n",
    "}\n",
    "print(data[\"Name\"])\n",
    "print(data[\"F_Name\"])\n",
    "print(data[\"Cnic\"])\n",
    "print(data[\"roll_no\"])\n"
   ]
  },
  {
   "cell_type": "code",
   "execution_count": 57,
   "id": "5f22cdb1",
   "metadata": {},
   "outputs": [
    {
     "name": "stdout",
     "output_type": "stream",
     "text": [
      "sifad\n",
      "syed asif\n",
      "syed asif\n",
      "syed asif\n"
     ]
    }
   ],
   "source": [
    "asad = {\n",
    "    'name': 'syed asif',\n",
    "    'last_name' : 'merauddin',\n",
    "    'roll_no' : 123,\n",
    "    'sign' : 'sifad'\n",
    "    \n",
    "}\n",
    "print(asad[\"sign\"])\n",
    "print(asad[\"name\"])\n",
    "print(asad[\"name\"])\n",
    "print(asad[\"name\"])\n"
   ]
  },
  {
   "cell_type": "code",
   "execution_count": 52,
   "id": "5384ffcd",
   "metadata": {},
   "outputs": [
    {
     "name": "stdout",
     "output_type": "stream",
     "text": [
      "syed asif\n",
      "name  :  syed asif\n",
      "last_name  :  merauddin\n",
      "roll_no  :  123\n",
      "sign  :  sifad\n"
     ]
    }
   ],
   "source": [
    "print(asad['name'])\n",
    "for i in asad:\n",
    "    print(i ,\" : \",asad[i])"
   ]
  },
  {
   "cell_type": "code",
   "execution_count": 58,
   "id": "0d3ee5f9",
   "metadata": {},
   "outputs": [
    {
     "name": "stdout",
     "output_type": "stream",
     "text": [
      "type[{}]\n"
     ]
    }
   ],
   "source": [
    "data = {}\n",
    "print(type[data])"
   ]
  },
  {
   "cell_type": "code",
   "execution_count": null,
   "id": "ce44a314",
   "metadata": {},
   "outputs": [],
   "source": []
  },
  {
   "cell_type": "code",
   "execution_count": null,
   "id": "a0776254",
   "metadata": {},
   "outputs": [],
   "source": []
  },
  {
   "cell_type": "code",
   "execution_count": null,
   "id": "b0e60c5c",
   "metadata": {},
   "outputs": [],
   "source": []
  }
 ],
 "metadata": {
  "kernelspec": {
   "display_name": "Python 3 (ipykernel)",
   "language": "python",
   "name": "python3"
  },
  "language_info": {
   "codemirror_mode": {
    "name": "ipython",
    "version": 3
   },
   "file_extension": ".py",
   "mimetype": "text/x-python",
   "name": "python",
   "nbconvert_exporter": "python",
   "pygments_lexer": "ipython3",
   "version": "3.9.12"
  }
 },
 "nbformat": 4,
 "nbformat_minor": 5
}
